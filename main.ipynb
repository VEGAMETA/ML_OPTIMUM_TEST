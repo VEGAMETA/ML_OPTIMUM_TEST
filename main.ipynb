{
 "cells": [
  {
   "cell_type": "code",
   "execution_count": 79,
   "id": "initial_id",
   "metadata": {
    "collapsed": true,
    "ExecuteTime": {
     "end_time": "2024-02-08T13:56:09.315392200Z",
     "start_time": "2024-02-08T13:56:09.299784Z"
    }
   },
   "outputs": [],
   "source": [
    "import pandas as pd\n",
    "from sklearn.model_selection import train_test_split\n",
    "from sklearn.linear_model import LinearRegression\n",
    "from sklearn.tree import DecisionTreeRegressor\n",
    "from sklearn.ensemble import RandomForestRegressor\n",
    "from sklearn.ensemble import GradientBoostingRegressor\n",
    "from sklearn.metrics import mean_absolute_error, r2_score, root_mean_squared_error\n",
    "from joblib import dump, load\n",
    "from pathlib import Path"
   ]
  },
  {
   "cell_type": "code",
   "execution_count": 80,
   "outputs": [],
   "source": [
    "flats_data = pd.read_excel('data/flats.xlsx')\n",
    "euro_data = pd.read_excel('data/euro.xlsx')\n",
    "flats_data['renovation'] = 0\n",
    "euro_data['renovation'] = 1\n",
    "merged_data = pd.merge(flats_data, euro_data, how='outer')"
   ],
   "metadata": {
    "collapsed": false,
    "ExecuteTime": {
     "end_time": "2024-02-08T13:56:11.709120100Z",
     "start_time": "2024-02-08T13:56:10.231761300Z"
    }
   },
   "id": "eedc7a7e1e24577e"
  },
  {
   "cell_type": "code",
   "execution_count": 81,
   "outputs": [],
   "source": [
    "flats_data['house_wall_type'] = flats_data['house_wall_type'].fillna('Неизвестно')\n",
    "merged_data['is_apartment'] = merged_data['is_apartment'].fillna(0)\n",
    "merged_data['house_wall_type'] = merged_data['house_wall_type'].fillna('Неизвестно')\n",
    "merged_data['all_data.object_info.living_area'] = merged_data['all_data.object_info.living_area'].fillna(\n",
    "    merged_data[\"all_data.object_info.living_area\"].mean())\n",
    "merged_data['build_year'] = merged_data['build_year'].fillna(merged_data['build_year'].mean())\n",
    "\n",
    "merged_data.dropna(subset=['price_sq', 'area'], inplace=True)\n",
    "\n",
    "merged_data['city'], cities = pd.factorize(merged_data['city'])\n",
    "merged_data['house_wall_type'], wall_types = pd.factorize(merged_data['house_wall_type'])"
   ],
   "metadata": {
    "collapsed": false,
    "ExecuteTime": {
     "end_time": "2024-02-08T13:56:12.885806700Z",
     "start_time": "2024-02-08T13:56:12.870175500Z"
    }
   },
   "id": "7659f45cbad5e2da"
  },
  {
   "cell_type": "code",
   "execution_count": 82,
   "outputs": [],
   "source": [
    "X = merged_data[['city', 'lat', 'lon', 'area', 'rooms', 'floor', 'house_floors',\n",
    "                 'renovation', 'build_year', 'house_wall_type', 'kitchen_area',\n",
    "                 'all_data.object_info.living_area', 'is_apartment', ]]\n",
    "y = merged_data['price_sq']\n",
    "\n",
    "X_train, X_test, y_train, y_test = train_test_split(X, y, test_size=0.2, random_state=42)"
   ],
   "metadata": {
    "collapsed": false,
    "ExecuteTime": {
     "end_time": "2024-02-08T13:56:14.413503100Z",
     "start_time": "2024-02-08T13:56:14.397872100Z"
    }
   },
   "id": "f5cfa0da80728218"
  },
  {
   "cell_type": "code",
   "execution_count": null,
   "outputs": [],
   "source": [
    "model = LinearRegression()\n",
    "model.fit(X_train, y_train)\n",
    "dump(model, 'models/model_linear.pkl')\n",
    "\n",
    "model = DecisionTreeRegressor()\n",
    "model.fit(X_train, y_train)\n",
    "dump(model, 'models/model_decision_tree.pkl')\n",
    "\n",
    "model = RandomForestRegressor()\n",
    "model.fit(X_train, y_train)\n",
    "dump(model, 'models/model_random_forest.pkl')\n",
    "\n",
    "model = GradientBoostingRegressor()\n",
    "model.fit(X_train, y_train)\n",
    "dump(model, 'models/model_gradient_boosting.pkl')"
   ],
   "metadata": {
    "collapsed": false
   },
   "id": "3f693c815eace275"
  },
  {
   "cell_type": "code",
   "execution_count": 84,
   "outputs": [
    {
     "name": "stdout",
     "output_type": "stream",
     "text": [
      "model_decision_tree.pkl \n",
      "RMSE: 34995 MAE: 21755, R2: 0.831\n",
      "\n",
      "model_gradient_boosting.pkl \n",
      "RMSE: 31092 MAE: 21599, R2: 0.8325\n",
      "\n",
      "model_linear.pkl \n",
      "RMSE: 44381 MAE: 31273, R2: 0.6135\n",
      "\n",
      "model_random_forest.pkl \n",
      "RMSE: 24792 MAE: 16564, R2: 0.9054\n"
     ]
    }
   ],
   "source": [
    "# Metrics\n",
    "for file in Path(\"models\").glob('model*'):\n",
    "    model = load(file)\n",
    "    y_pred = model.predict(X_test)\n",
    "    r_mse = root_mean_squared_error(y_pred, y_test)\n",
    "    mae = mean_absolute_error(y_pred, y_test)\n",
    "    r2 = r2_score(y_pred, y_test)\n",
    "    print(f\"{file.name} \\nRMSE: {round(r_mse)} MAE: {round(mae)}, R2: {r2:.4}\\n\")\n"
   ],
   "metadata": {
    "collapsed": false,
    "ExecuteTime": {
     "end_time": "2024-02-08T13:56:21.637604700Z",
     "start_time": "2024-02-08T13:56:21.528232400Z"
    }
   },
   "id": "3c0971ab0aa45a09"
  },
  {
   "cell_type": "code",
   "execution_count": 88,
   "outputs": [],
   "source": [
    "model = load('models/model_random_forest.pkl') # Best\n",
    "\n",
    "\n",
    "def euro_price(row):\n",
    "    data = pd.DataFrame({'city': [cities.get_loc(row['city'])],\n",
    "                         'lat': [row['lat']],\n",
    "                         'lon': [row['lon']],\n",
    "                         'area': [row['area']],\n",
    "                         'rooms': [row['rooms']],\n",
    "                         'floor': [row['floor']],\n",
    "                         'house_floors': [row['house_floors']],\n",
    "                         'renovation': [1],\n",
    "                         'build_year': [row['build_year']],\n",
    "                         'house_wall_type': [wall_types.get_loc(row['house_wall_type'])],\n",
    "                         'kitchen_area': [row['kitchen_area']],\n",
    "                         'all_data.object_info.living_area': [row['all_data.object_info.living_area']],\n",
    "                         'is_apartment': [row['is_apartment']]\n",
    "                         })\n",
    "    \n",
    "    y_pred = model.predict(data)\n",
    "    \n",
    "    try:\n",
    "        renovation_value = round(y_pred[0] * data['area'][0])\n",
    "    except ValueError:\n",
    "        renovation_value = round(y_pred[0])\n",
    "    \n",
    "    return renovation_value\n",
    "\n",
    "\n",
    "flats_data['euro_price'] = flats_data.apply(euro_price, axis=1)\n",
    "flats_data.to_excel('flats.xlsx', index=False)"
   ],
   "metadata": {
    "collapsed": false,
    "ExecuteTime": {
     "end_time": "2024-02-08T14:01:08.446576800Z",
     "start_time": "2024-02-08T14:00:51.361360500Z"
    }
   },
   "id": "ca7dddd33b765e19"
  }
 ],
 "metadata": {
  "kernelspec": {
   "display_name": "Python 3",
   "language": "python",
   "name": "python3"
  },
  "language_info": {
   "codemirror_mode": {
    "name": "ipython",
    "version": 2
   },
   "file_extension": ".py",
   "mimetype": "text/x-python",
   "name": "python",
   "nbconvert_exporter": "python",
   "pygments_lexer": "ipython2",
   "version": "2.7.6"
  }
 },
 "nbformat": 4,
 "nbformat_minor": 5
}

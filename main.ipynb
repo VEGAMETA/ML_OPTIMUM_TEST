{
 "cells": [
  {
   "cell_type": "code",
   "execution_count": 352,
   "id": "initial_id",
   "metadata": {
    "collapsed": true,
    "ExecuteTime": {
     "end_time": "2024-02-06T14:55:22.105341900Z",
     "start_time": "2024-02-06T14:55:22.093420800Z"
    }
   },
   "outputs": [],
   "source": [
    "import pandas as pd\n",
    "from sklearn.model_selection import train_test_split\n",
    "from sklearn.linear_model import LinearRegression\n",
    "from sklearn.metrics import mean_squared_error, mean_absolute_error, r2_score\n",
    "from joblib import dump, load"
   ]
  },
  {
   "cell_type": "code",
   "execution_count": 353,
   "outputs": [],
   "source": [
    "flats_data = pd.read_excel('data/flats.xlsx')\n",
    "euro_data = pd.read_excel('data/euro.xlsx')\n",
    "flats_data['renovation'] = 0\n",
    "euro_data['renovation'] = 1\n",
    "merged_data = pd.merge(flats_data, euro_data, how='outer')"
   ],
   "metadata": {
    "collapsed": false,
    "ExecuteTime": {
     "end_time": "2024-02-06T14:55:24.713800900Z",
     "start_time": "2024-02-06T14:55:23.221306700Z"
    }
   },
   "id": "eedc7a7e1e24577e"
  },
  {
   "cell_type": "code",
   "execution_count": 354,
   "outputs": [],
   "source": [
    "merged_data['is_apartment'] = merged_data['is_apartment'].fillna(0)\n",
    "merged_data['all_data.object_info.living_area'] = merged_data['all_data.object_info.living_area'].fillna(merged_data[\"all_data.object_info.living_area\"].mean())\n",
    "merged_data['build_year'] = merged_data['build_year'].fillna(merged_data['build_year'].mean())\n",
    "\n",
    "merged_data.dropna(subset=['price_sq', 'area'], inplace=True)\n",
    "\n",
    "merged_data['city'], cities = pd.factorize(merged_data['city'])\n",
    "merged_data['house_wall_type'], wall_types = pd.factorize(merged_data['house_wall_type'])"
   ],
   "metadata": {
    "collapsed": false,
    "ExecuteTime": {
     "end_time": "2024-02-06T14:55:26.050566700Z",
     "start_time": "2024-02-06T14:55:26.039569300Z"
    }
   },
   "id": "7659f45cbad5e2da"
  },
  {
   "cell_type": "code",
   "execution_count": 355,
   "outputs": [
    {
     "data": {
      "text/plain": "['model.pkl']"
     },
     "execution_count": 355,
     "metadata": {},
     "output_type": "execute_result"
    }
   ],
   "source": [
    "# Создание модели\n",
    "X = merged_data[['city', 'lat', 'lon', 'area', 'rooms', 'floor', 'house_floors',\n",
    "                 'renovation', 'build_year', 'house_wall_type', 'kitchen_area',\n",
    "                 'all_data.object_info.living_area', 'is_apartment', ]]  # Признаки \n",
    "y = merged_data['price_sq']  # Целевая переменная\n",
    "\n",
    "X_train, X_test, y_train, y_test = train_test_split(X, y, test_size=0.2, random_state=42)\n",
    "\n",
    "model = LinearRegression()  \n",
    "model.fit(X_train, y_train)\n",
    "dump(model, 'model.pkl')"
   ],
   "metadata": {
    "collapsed": false,
    "ExecuteTime": {
     "end_time": "2024-02-06T14:55:27.595787400Z",
     "start_time": "2024-02-06T14:55:27.580657400Z"
    }
   },
   "id": "f5cfa0da80728218"
  },
  {
   "cell_type": "code",
   "execution_count": 356,
   "outputs": [
    {
     "name": "stdout",
     "output_type": "stream",
     "text": [
      "Среднеквадратичная ошибка: 1969877248.0805466\n",
      "Средняя абсолютная ошибка: 31268.451106806755\n",
      "Коэффициент детерминации: 0.6133949214790724\n"
     ]
    }
   ],
   "source": [
    "# Оценка производительности модели\n",
    "y_pred = model.predict(X_test)\n",
    "mse = mean_squared_error(y_pred, y_test)\n",
    "mae = mean_absolute_error(y_pred, y_test)\n",
    "r2 = r2_score(y_pred, y_test)\n",
    "print(\"Среднеквадратичная ошибка:\", mse)\n",
    "print(\"Средняя абсолютная ошибка:\", mae)\n",
    "print(\"Коэффициент детерминации:\", r2)"
   ],
   "metadata": {
    "collapsed": false,
    "ExecuteTime": {
     "end_time": "2024-02-06T14:55:28.977065100Z",
     "start_time": "2024-02-06T14:55:28.967066500Z"
    }
   },
   "id": "bf3a8074224b2755"
  },
  {
   "cell_type": "code",
   "execution_count": 341,
   "outputs": [
    {
     "name": "stdout",
     "output_type": "stream",
     "text": [
      "                             Признак   Коэффициент\n",
      "0                               city  56193.953541\n",
      "1                                lat -11810.311169\n",
      "2                                lon   -942.917030\n",
      "3                               area  -1320.243553\n",
      "4                              rooms  -2316.741584\n",
      "5                              floor    412.618133\n",
      "6                       house_floors   1440.727546\n",
      "7                         renovation  12158.343340\n",
      "8                         build_year     35.941128\n",
      "9                    house_wall_type  -1118.559531\n",
      "10                      kitchen_area   1863.505239\n",
      "11  all_data.object_info.living_area   -378.483762\n",
      "12                      is_apartment  17593.542928\n"
     ]
    }
   ],
   "source": [
    "# Оценка коэффициентов модели\n",
    "coefficients = pd.DataFrame({'Признак': X.columns, 'Коэффициент': model.coef_})\n",
    "print(coefficients)"
   ],
   "metadata": {
    "collapsed": false,
    "ExecuteTime": {
     "end_time": "2024-02-06T14:42:50.696642100Z",
     "start_time": "2024-02-06T14:42:50.681125900Z"
    }
   },
   "id": "f4ac30723c8062f9"
  },
  {
   "cell_type": "code",
   "execution_count": 357,
   "outputs": [
    {
     "name": "stdout",
     "output_type": "stream",
     "text": [
      "['Новосибирск', 'Казань', 'Санкт-Петербург', 'Москва', 'поселение Мосрентген', 'поселение Сосенское', 'поселение Московский']\n",
      "['Монолитный', 'Кирпичный', 'Панельный', 'Иные', 'Кирпично-монолитный', 'Блочный', 'Монолитно-кирпичный', 'Железобетон', 'Смешанные', 'Деревянный']\n"
     ]
    }
   ],
   "source": [
    "print(list(cities))\n",
    "print(list(wall_types))"
   ],
   "metadata": {
    "collapsed": false,
    "ExecuteTime": {
     "end_time": "2024-02-06T14:55:38.669768500Z",
     "start_time": "2024-02-06T14:55:38.659769200Z"
    }
   },
   "id": "51372c4d5b64c62d"
  },
  {
   "cell_type": "code",
   "execution_count": 358,
   "outputs": [
    {
     "name": "stdout",
     "output_type": "stream",
     "text": [
      "Цена без евроремонта:  9 597 706\n",
      "Цена c евроремонтом:  10 509 582\n",
      "Разница в цене:  911 876\n"
     ]
    }
   ],
   "source": [
    "model = load('model.pkl')\n",
    "my_data = pd.DataFrame({'city': [cities.get_loc('Казань')],\n",
    "                        'lat': [55.789472],\n",
    "                        'lon': [49.115801],\n",
    "                        'area': [75],\n",
    "                        'rooms': [3],\n",
    "                        'floor': [3],\n",
    "                        'house_floors': [12],\n",
    "                        'renovation': [_],\n",
    "                        'build_year': [2000],\n",
    "                        'house_wall_type': [wall_types.get_loc('Кирпичный')],\n",
    "                        'kitchen_area': [15.0],\n",
    "                        'all_data.object_info.living_area': [20.0],\n",
    "                        'is_apartment': [0]\n",
    "                        })\n",
    "\n",
    "my_data['renovation'] = 0\n",
    "y_pred = model.predict(my_data)  \n",
    "no_renovation_value = round(y_pred[0] * my_data['area'][0])\n",
    "\n",
    "my_data['renovation'] = 1\n",
    "y_pred = model.predict(my_data)\n",
    "renovation_value = round(y_pred[0] * my_data['area'][0])\n",
    "\n",
    "difference = renovation_value - no_renovation_value\n",
    "\n",
    "no_renovation_value = '{:,}'.format(no_renovation_value).replace(',', ' ')\n",
    "renovation_value = '{:,}'.format(renovation_value).replace(',', ' ')\n",
    "difference = '{:,}'.format(difference).replace(',', ' ')\n",
    "\n",
    "print(\"Цена без евроремонта: \", no_renovation_value)\n",
    "print(\"Цена c евроремонтом: \", renovation_value)\n",
    "print(\"Разница в цене: \", difference)"
   ],
   "metadata": {
    "collapsed": false,
    "ExecuteTime": {
     "end_time": "2024-02-06T14:55:39.902187Z",
     "start_time": "2024-02-06T14:55:39.890645400Z"
    }
   },
   "id": "ca7dddd33b765e19"
  }
 ],
 "metadata": {
  "kernelspec": {
   "display_name": "Python 3",
   "language": "python",
   "name": "python3"
  },
  "language_info": {
   "codemirror_mode": {
    "name": "ipython",
    "version": 2
   },
   "file_extension": ".py",
   "mimetype": "text/x-python",
   "name": "python",
   "nbconvert_exporter": "python",
   "pygments_lexer": "ipython2",
   "version": "2.7.6"
  }
 },
 "nbformat": 4,
 "nbformat_minor": 5
}
